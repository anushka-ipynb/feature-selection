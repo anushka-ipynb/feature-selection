{
 "cells": [
  {
   "cell_type": "markdown",
   "id": "067ebcbb",
   "metadata": {},
   "source": [
    "## feature selection - dropping constant features"
   ]
  },
  {
   "cell_type": "markdown",
   "id": "91b12304",
   "metadata": {},
   "source": [
    "- here, we'll remove features that have constant features that aren't actually important for solving the problem statement"
   ]
  },
  {
   "cell_type": "code",
   "execution_count": 1,
   "id": "2640e767",
   "metadata": {},
   "outputs": [],
   "source": [
    "import pandas as pd "
   ]
  },
  {
   "cell_type": "code",
   "execution_count": 3,
   "id": "6bcb45cc",
   "metadata": {},
   "outputs": [],
   "source": [
    "df = pd.DataFrame({'A':[1,2,4,1,2,4],\n",
    "                   'B':[4,5,6,7,8,9],\n",
    "                   'C':[0,0,0,0,0,0],\n",
    "                   'D':[1,1,1,1,1,1]})"
   ]
  },
  {
   "cell_type": "code",
   "execution_count": 4,
   "id": "fa2f7985",
   "metadata": {},
   "outputs": [
    {
     "data": {
      "text/html": [
       "<div>\n",
       "<style scoped>\n",
       "    .dataframe tbody tr th:only-of-type {\n",
       "        vertical-align: middle;\n",
       "    }\n",
       "\n",
       "    .dataframe tbody tr th {\n",
       "        vertical-align: top;\n",
       "    }\n",
       "\n",
       "    .dataframe thead th {\n",
       "        text-align: right;\n",
       "    }\n",
       "</style>\n",
       "<table border=\"1\" class=\"dataframe\">\n",
       "  <thead>\n",
       "    <tr style=\"text-align: right;\">\n",
       "      <th></th>\n",
       "      <th>A</th>\n",
       "      <th>B</th>\n",
       "      <th>C</th>\n",
       "      <th>D</th>\n",
       "    </tr>\n",
       "  </thead>\n",
       "  <tbody>\n",
       "    <tr>\n",
       "      <th>0</th>\n",
       "      <td>1</td>\n",
       "      <td>4</td>\n",
       "      <td>0</td>\n",
       "      <td>1</td>\n",
       "    </tr>\n",
       "    <tr>\n",
       "      <th>1</th>\n",
       "      <td>2</td>\n",
       "      <td>5</td>\n",
       "      <td>0</td>\n",
       "      <td>1</td>\n",
       "    </tr>\n",
       "    <tr>\n",
       "      <th>2</th>\n",
       "      <td>4</td>\n",
       "      <td>6</td>\n",
       "      <td>0</td>\n",
       "      <td>1</td>\n",
       "    </tr>\n",
       "    <tr>\n",
       "      <th>3</th>\n",
       "      <td>1</td>\n",
       "      <td>7</td>\n",
       "      <td>0</td>\n",
       "      <td>1</td>\n",
       "    </tr>\n",
       "    <tr>\n",
       "      <th>4</th>\n",
       "      <td>2</td>\n",
       "      <td>8</td>\n",
       "      <td>0</td>\n",
       "      <td>1</td>\n",
       "    </tr>\n",
       "    <tr>\n",
       "      <th>5</th>\n",
       "      <td>4</td>\n",
       "      <td>9</td>\n",
       "      <td>0</td>\n",
       "      <td>1</td>\n",
       "    </tr>\n",
       "  </tbody>\n",
       "</table>\n",
       "</div>"
      ],
      "text/plain": [
       "   A  B  C  D\n",
       "0  1  4  0  1\n",
       "1  2  5  0  1\n",
       "2  4  6  0  1\n",
       "3  1  7  0  1\n",
       "4  2  8  0  1\n",
       "5  4  9  0  1"
      ]
     },
     "execution_count": 4,
     "metadata": {},
     "output_type": "execute_result"
    }
   ],
   "source": [
    "df"
   ]
  },
  {
   "cell_type": "markdown",
   "id": "83a9261a",
   "metadata": {},
   "source": [
    "### we use variance threshold from sklearn library to deal with this. \n",
    "> Feature selector that removes all low-variance features.\n",
    "> \n",
    "> \n",
    "> this feature selection algorithm only looks at the X[or independant] variables, not y[the dependant] variable - meaning it can be used for unsupervised learning.\n",
    ">"
   ]
  },
  {
   "cell_type": "code",
   "execution_count": 6,
   "id": "c2449321",
   "metadata": {},
   "outputs": [
    {
     "data": {
      "text/plain": [
       "VarianceThreshold(threshold=0)"
      ]
     },
     "execution_count": 6,
     "metadata": {},
     "output_type": "execute_result"
    }
   ],
   "source": [
    "from sklearn.feature_selection import VarianceThreshold\n",
    "var_thr = VarianceThreshold(threshold=0)\n",
    "var_thr.fit(df)\n"
   ]
  },
  {
   "cell_type": "code",
   "execution_count": 45,
   "id": "e6a2be13",
   "metadata": {},
   "outputs": [
    {
     "data": {
      "text/plain": [
       "array([ True,  True, False, False])"
      ]
     },
     "execution_count": 45,
     "metadata": {},
     "output_type": "execute_result"
    }
   ],
   "source": [
    "var_thr.get_support()"
   ]
  },
  {
   "cell_type": "code",
   "execution_count": 10,
   "id": "63f68eb4",
   "metadata": {},
   "outputs": [
    {
     "data": {
      "text/plain": [
       "Index(['C', 'D'], dtype='object')"
      ]
     },
     "execution_count": 10,
     "metadata": {},
     "output_type": "execute_result"
    }
   ],
   "source": [
    "df.columns[~var_thr.get_support()]"
   ]
  },
  {
   "cell_type": "code",
   "execution_count": 15,
   "id": "957ba2e4",
   "metadata": {},
   "outputs": [],
   "source": [
    "constant_columns = df.columns[~var_thr.get_support()]"
   ]
  },
  {
   "cell_type": "code",
   "execution_count": 16,
   "id": "61f70936",
   "metadata": {},
   "outputs": [
    {
     "data": {
      "text/plain": [
       "Index(['C', 'D'], dtype='object')"
      ]
     },
     "execution_count": 16,
     "metadata": {},
     "output_type": "execute_result"
    }
   ],
   "source": [
    "constant_columns"
   ]
  },
  {
   "cell_type": "code",
   "execution_count": 17,
   "id": "bd9365bf",
   "metadata": {},
   "outputs": [
    {
     "data": {
      "text/html": [
       "<div>\n",
       "<style scoped>\n",
       "    .dataframe tbody tr th:only-of-type {\n",
       "        vertical-align: middle;\n",
       "    }\n",
       "\n",
       "    .dataframe tbody tr th {\n",
       "        vertical-align: top;\n",
       "    }\n",
       "\n",
       "    .dataframe thead th {\n",
       "        text-align: right;\n",
       "    }\n",
       "</style>\n",
       "<table border=\"1\" class=\"dataframe\">\n",
       "  <thead>\n",
       "    <tr style=\"text-align: right;\">\n",
       "      <th></th>\n",
       "      <th>A</th>\n",
       "      <th>B</th>\n",
       "    </tr>\n",
       "  </thead>\n",
       "  <tbody>\n",
       "    <tr>\n",
       "      <th>0</th>\n",
       "      <td>1</td>\n",
       "      <td>4</td>\n",
       "    </tr>\n",
       "    <tr>\n",
       "      <th>1</th>\n",
       "      <td>2</td>\n",
       "      <td>5</td>\n",
       "    </tr>\n",
       "    <tr>\n",
       "      <th>2</th>\n",
       "      <td>4</td>\n",
       "      <td>6</td>\n",
       "    </tr>\n",
       "    <tr>\n",
       "      <th>3</th>\n",
       "      <td>1</td>\n",
       "      <td>7</td>\n",
       "    </tr>\n",
       "    <tr>\n",
       "      <th>4</th>\n",
       "      <td>2</td>\n",
       "      <td>8</td>\n",
       "    </tr>\n",
       "    <tr>\n",
       "      <th>5</th>\n",
       "      <td>4</td>\n",
       "      <td>9</td>\n",
       "    </tr>\n",
       "  </tbody>\n",
       "</table>\n",
       "</div>"
      ],
      "text/plain": [
       "   A  B\n",
       "0  1  4\n",
       "1  2  5\n",
       "2  4  6\n",
       "3  1  7\n",
       "4  2  8\n",
       "5  4  9"
      ]
     },
     "execution_count": 17,
     "metadata": {},
     "output_type": "execute_result"
    }
   ],
   "source": [
    "df.drop(constant_columns,axis=1)"
   ]
  },
  {
   "cell_type": "markdown",
   "id": "a6e9812a",
   "metadata": {},
   "source": [
    "### practising on a real dataset"
   ]
  },
  {
   "cell_type": "code",
   "execution_count": 48,
   "id": "a0f69d66",
   "metadata": {},
   "outputs": [],
   "source": [
    "import pandas as pd \n",
    "from sklearn.feature_selection import VarianceThreshold\n",
    "import numpy as np"
   ]
  },
  {
   "cell_type": "code",
   "execution_count": 49,
   "id": "fa744d4e",
   "metadata": {},
   "outputs": [],
   "source": [
    "df = pd.read_csv('santander.csv',nrows=10000)"
   ]
  },
  {
   "cell_type": "code",
   "execution_count": 50,
   "id": "a6c6eaee",
   "metadata": {},
   "outputs": [],
   "source": [
    "X= df.drop('TARGET',axis=1)\n",
    "y=df['TARGET']"
   ]
  },
  {
   "cell_type": "code",
   "execution_count": 51,
   "id": "c5671bd1",
   "metadata": {},
   "outputs": [],
   "source": [
    "from sklearn.model_selection import train_test_split\n",
    "X_train,X_test,y_train,y_test = train_test_split(df.drop(labels=['TARGET'],axis=1),df['TARGET'],test_size=0.3,random_state=0)"
   ]
  },
  {
   "cell_type": "code",
   "execution_count": 53,
   "id": "26484f71",
   "metadata": {},
   "outputs": [
    {
     "data": {
      "text/plain": [
       "((3000, 370), (7000, 370))"
      ]
     },
     "execution_count": 53,
     "metadata": {},
     "output_type": "execute_result"
    }
   ],
   "source": [
    "X_test.shape, X_train.shape"
   ]
  },
  {
   "cell_type": "markdown",
   "id": "b63bafcf",
   "metadata": {},
   "source": [
    "### now applying variance threshold "
   ]
  },
  {
   "cell_type": "code",
   "execution_count": 54,
   "id": "bd0dcf14",
   "metadata": {},
   "outputs": [
    {
     "data": {
      "text/plain": [
       "VarianceThreshold(threshold=0)"
      ]
     },
     "execution_count": 54,
     "metadata": {},
     "output_type": "execute_result"
    }
   ],
   "source": [
    "var_t = VarianceThreshold(threshold=0)\n",
    "var_t.fit(X_train)"
   ]
  },
  {
   "cell_type": "code",
   "execution_count": 55,
   "id": "22514deb",
   "metadata": {},
   "outputs": [
    {
     "data": {
      "text/plain": [
       "284"
      ]
     },
     "execution_count": 55,
     "metadata": {},
     "output_type": "execute_result"
    }
   ],
   "source": [
    "sum(var_t.get_support())"
   ]
  },
  {
   "cell_type": "code",
   "execution_count": 64,
   "id": "f0452cca",
   "metadata": {},
   "outputs": [
    {
     "name": "stdout",
     "output_type": "stream",
     "text": [
      "284\n",
      "86\n"
     ]
    }
   ],
   "source": [
    "# no of non constant features\n",
    "print(len(X_train.columns[var_t.get_support()]))\n",
    "# no of constant features\n",
    "print(len(X_train.columns[~var_t.get_support()]))"
   ]
  },
  {
   "cell_type": "code",
   "execution_count": 65,
   "id": "3a6c6793",
   "metadata": {},
   "outputs": [],
   "source": [
    "constant_col = X_train.columns[~var_t.get_support()]"
   ]
  },
  {
   "cell_type": "code",
   "execution_count": 66,
   "id": "0b892006",
   "metadata": {},
   "outputs": [
    {
     "data": {
      "text/plain": [
       "Index(['ind_var2_0', 'ind_var2', 'ind_var13_medio_0', 'ind_var13_medio',\n",
       "       'ind_var18_0', 'ind_var18', 'ind_var27_0', 'ind_var28_0', 'ind_var28',\n",
       "       'ind_var27', 'ind_var34_0', 'ind_var34', 'ind_var41', 'ind_var46_0',\n",
       "       'ind_var46', 'num_var13_medio_0', 'num_var13_medio', 'num_var18_0',\n",
       "       'num_var18', 'num_var27_0', 'num_var28_0', 'num_var28', 'num_var27',\n",
       "       'num_var34_0', 'num_var34', 'num_var41', 'num_var46_0', 'num_var46',\n",
       "       'saldo_var13_medio', 'saldo_var18', 'saldo_var28', 'saldo_var27',\n",
       "       'saldo_var34', 'saldo_var41', 'saldo_var46',\n",
       "       'delta_imp_amort_var18_1y3', 'delta_imp_amort_var34_1y3',\n",
       "       'delta_imp_reemb_var17_1y3', 'delta_imp_reemb_var33_1y3',\n",
       "       'delta_imp_trasp_var17_out_1y3', 'delta_imp_trasp_var33_out_1y3',\n",
       "       'delta_num_reemb_var17_1y3', 'delta_num_reemb_var33_1y3',\n",
       "       'delta_num_trasp_var17_out_1y3', 'delta_num_trasp_var33_out_1y3',\n",
       "       'imp_amort_var18_hace3', 'imp_amort_var18_ult1',\n",
       "       'imp_amort_var34_hace3', 'imp_amort_var34_ult1', 'imp_var7_emit_ult1',\n",
       "       'imp_reemb_var13_hace3', 'imp_reemb_var17_hace3',\n",
       "       'imp_reemb_var17_ult1', 'imp_reemb_var33_hace3', 'imp_reemb_var33_ult1',\n",
       "       'imp_trasp_var17_in_hace3', 'imp_trasp_var17_out_hace3',\n",
       "       'imp_trasp_var17_out_ult1', 'imp_trasp_var33_in_hace3',\n",
       "       'imp_trasp_var33_out_hace3', 'imp_trasp_var33_out_ult1',\n",
       "       'imp_venta_var44_hace3', 'ind_var7_emit_ult1', 'num_var2_0_ult1',\n",
       "       'num_var2_ult1', 'num_var7_emit_ult1', 'num_meses_var13_medio_ult3',\n",
       "       'num_reemb_var13_hace3', 'num_reemb_var17_hace3',\n",
       "       'num_reemb_var17_ult1', 'num_reemb_var33_hace3', 'num_reemb_var33_ult1',\n",
       "       'num_trasp_var17_in_hace3', 'num_trasp_var17_out_hace3',\n",
       "       'num_trasp_var17_out_ult1', 'num_trasp_var33_in_hace3',\n",
       "       'num_trasp_var33_out_hace3', 'num_trasp_var33_out_ult1',\n",
       "       'num_venta_var44_hace3', 'saldo_var2_ult1',\n",
       "       'saldo_medio_var13_medio_hace2', 'saldo_medio_var13_medio_hace3',\n",
       "       'saldo_medio_var13_medio_ult1', 'saldo_medio_var13_medio_ult3',\n",
       "       'saldo_medio_var29_hace2', 'saldo_medio_var29_hace3'],\n",
       "      dtype='object')"
      ]
     },
     "execution_count": 66,
     "metadata": {},
     "output_type": "execute_result"
    }
   ],
   "source": [
    "constant_col"
   ]
  },
  {
   "cell_type": "code",
   "execution_count": 67,
   "id": "135a9c9c",
   "metadata": {},
   "outputs": [
    {
     "data": {
      "text/html": [
       "<div>\n",
       "<style scoped>\n",
       "    .dataframe tbody tr th:only-of-type {\n",
       "        vertical-align: middle;\n",
       "    }\n",
       "\n",
       "    .dataframe tbody tr th {\n",
       "        vertical-align: top;\n",
       "    }\n",
       "\n",
       "    .dataframe thead th {\n",
       "        text-align: right;\n",
       "    }\n",
       "</style>\n",
       "<table border=\"1\" class=\"dataframe\">\n",
       "  <thead>\n",
       "    <tr style=\"text-align: right;\">\n",
       "      <th></th>\n",
       "      <th>ID</th>\n",
       "      <th>var3</th>\n",
       "      <th>var15</th>\n",
       "      <th>imp_ent_var16_ult1</th>\n",
       "      <th>imp_op_var39_comer_ult1</th>\n",
       "      <th>imp_op_var39_comer_ult3</th>\n",
       "      <th>imp_op_var40_comer_ult1</th>\n",
       "      <th>imp_op_var40_comer_ult3</th>\n",
       "      <th>imp_op_var40_efect_ult1</th>\n",
       "      <th>imp_op_var40_efect_ult3</th>\n",
       "      <th>...</th>\n",
       "      <th>saldo_medio_var29_ult3</th>\n",
       "      <th>saldo_medio_var33_hace2</th>\n",
       "      <th>saldo_medio_var33_hace3</th>\n",
       "      <th>saldo_medio_var33_ult1</th>\n",
       "      <th>saldo_medio_var33_ult3</th>\n",
       "      <th>saldo_medio_var44_hace2</th>\n",
       "      <th>saldo_medio_var44_hace3</th>\n",
       "      <th>saldo_medio_var44_ult1</th>\n",
       "      <th>saldo_medio_var44_ult3</th>\n",
       "      <th>var38</th>\n",
       "    </tr>\n",
       "  </thead>\n",
       "  <tbody>\n",
       "    <tr>\n",
       "      <th>7681</th>\n",
       "      <td>15431</td>\n",
       "      <td>2</td>\n",
       "      <td>42</td>\n",
       "      <td>840.0</td>\n",
       "      <td>4477.02</td>\n",
       "      <td>4989.54</td>\n",
       "      <td>0.0</td>\n",
       "      <td>0.0</td>\n",
       "      <td>0</td>\n",
       "      <td>0</td>\n",
       "      <td>...</td>\n",
       "      <td>0.0</td>\n",
       "      <td>0.0</td>\n",
       "      <td>0.0</td>\n",
       "      <td>0.0</td>\n",
       "      <td>0.0</td>\n",
       "      <td>0.0</td>\n",
       "      <td>0.0</td>\n",
       "      <td>0.0</td>\n",
       "      <td>0.0</td>\n",
       "      <td>37491.21</td>\n",
       "    </tr>\n",
       "    <tr>\n",
       "      <th>9031</th>\n",
       "      <td>18181</td>\n",
       "      <td>2</td>\n",
       "      <td>31</td>\n",
       "      <td>0.0</td>\n",
       "      <td>52.32</td>\n",
       "      <td>52.32</td>\n",
       "      <td>0.0</td>\n",
       "      <td>0.0</td>\n",
       "      <td>0</td>\n",
       "      <td>0</td>\n",
       "      <td>...</td>\n",
       "      <td>0.0</td>\n",
       "      <td>0.0</td>\n",
       "      <td>0.0</td>\n",
       "      <td>0.0</td>\n",
       "      <td>0.0</td>\n",
       "      <td>0.0</td>\n",
       "      <td>0.0</td>\n",
       "      <td>0.0</td>\n",
       "      <td>0.0</td>\n",
       "      <td>106685.94</td>\n",
       "    </tr>\n",
       "    <tr>\n",
       "      <th>3691</th>\n",
       "      <td>7411</td>\n",
       "      <td>2</td>\n",
       "      <td>51</td>\n",
       "      <td>0.0</td>\n",
       "      <td>0.00</td>\n",
       "      <td>0.00</td>\n",
       "      <td>0.0</td>\n",
       "      <td>0.0</td>\n",
       "      <td>0</td>\n",
       "      <td>0</td>\n",
       "      <td>...</td>\n",
       "      <td>0.0</td>\n",
       "      <td>0.0</td>\n",
       "      <td>0.0</td>\n",
       "      <td>0.0</td>\n",
       "      <td>0.0</td>\n",
       "      <td>0.0</td>\n",
       "      <td>0.0</td>\n",
       "      <td>0.0</td>\n",
       "      <td>0.0</td>\n",
       "      <td>66144.66</td>\n",
       "    </tr>\n",
       "    <tr>\n",
       "      <th>202</th>\n",
       "      <td>407</td>\n",
       "      <td>2</td>\n",
       "      <td>36</td>\n",
       "      <td>0.0</td>\n",
       "      <td>0.00</td>\n",
       "      <td>0.00</td>\n",
       "      <td>0.0</td>\n",
       "      <td>0.0</td>\n",
       "      <td>0</td>\n",
       "      <td>0</td>\n",
       "      <td>...</td>\n",
       "      <td>0.0</td>\n",
       "      <td>0.0</td>\n",
       "      <td>0.0</td>\n",
       "      <td>0.0</td>\n",
       "      <td>0.0</td>\n",
       "      <td>0.0</td>\n",
       "      <td>0.0</td>\n",
       "      <td>0.0</td>\n",
       "      <td>0.0</td>\n",
       "      <td>92121.36</td>\n",
       "    </tr>\n",
       "    <tr>\n",
       "      <th>5625</th>\n",
       "      <td>11280</td>\n",
       "      <td>2</td>\n",
       "      <td>23</td>\n",
       "      <td>0.0</td>\n",
       "      <td>0.00</td>\n",
       "      <td>0.00</td>\n",
       "      <td>0.0</td>\n",
       "      <td>0.0</td>\n",
       "      <td>0</td>\n",
       "      <td>0</td>\n",
       "      <td>...</td>\n",
       "      <td>0.0</td>\n",
       "      <td>0.0</td>\n",
       "      <td>0.0</td>\n",
       "      <td>0.0</td>\n",
       "      <td>0.0</td>\n",
       "      <td>0.0</td>\n",
       "      <td>0.0</td>\n",
       "      <td>0.0</td>\n",
       "      <td>0.0</td>\n",
       "      <td>74650.83</td>\n",
       "    </tr>\n",
       "    <tr>\n",
       "      <th>...</th>\n",
       "      <td>...</td>\n",
       "      <td>...</td>\n",
       "      <td>...</td>\n",
       "      <td>...</td>\n",
       "      <td>...</td>\n",
       "      <td>...</td>\n",
       "      <td>...</td>\n",
       "      <td>...</td>\n",
       "      <td>...</td>\n",
       "      <td>...</td>\n",
       "      <td>...</td>\n",
       "      <td>...</td>\n",
       "      <td>...</td>\n",
       "      <td>...</td>\n",
       "      <td>...</td>\n",
       "      <td>...</td>\n",
       "      <td>...</td>\n",
       "      <td>...</td>\n",
       "      <td>...</td>\n",
       "      <td>...</td>\n",
       "      <td>...</td>\n",
       "    </tr>\n",
       "    <tr>\n",
       "      <th>9225</th>\n",
       "      <td>18564</td>\n",
       "      <td>2</td>\n",
       "      <td>33</td>\n",
       "      <td>0.0</td>\n",
       "      <td>0.00</td>\n",
       "      <td>0.00</td>\n",
       "      <td>0.0</td>\n",
       "      <td>0.0</td>\n",
       "      <td>0</td>\n",
       "      <td>0</td>\n",
       "      <td>...</td>\n",
       "      <td>0.0</td>\n",
       "      <td>0.0</td>\n",
       "      <td>0.0</td>\n",
       "      <td>0.0</td>\n",
       "      <td>0.0</td>\n",
       "      <td>0.0</td>\n",
       "      <td>0.0</td>\n",
       "      <td>0.0</td>\n",
       "      <td>0.0</td>\n",
       "      <td>117547.89</td>\n",
       "    </tr>\n",
       "    <tr>\n",
       "      <th>4859</th>\n",
       "      <td>9723</td>\n",
       "      <td>2</td>\n",
       "      <td>24</td>\n",
       "      <td>0.0</td>\n",
       "      <td>0.00</td>\n",
       "      <td>0.00</td>\n",
       "      <td>0.0</td>\n",
       "      <td>0.0</td>\n",
       "      <td>0</td>\n",
       "      <td>0</td>\n",
       "      <td>...</td>\n",
       "      <td>0.0</td>\n",
       "      <td>0.0</td>\n",
       "      <td>0.0</td>\n",
       "      <td>0.0</td>\n",
       "      <td>0.0</td>\n",
       "      <td>0.0</td>\n",
       "      <td>0.0</td>\n",
       "      <td>0.0</td>\n",
       "      <td>0.0</td>\n",
       "      <td>71050.83</td>\n",
       "    </tr>\n",
       "    <tr>\n",
       "      <th>3264</th>\n",
       "      <td>6557</td>\n",
       "      <td>2</td>\n",
       "      <td>24</td>\n",
       "      <td>0.0</td>\n",
       "      <td>0.00</td>\n",
       "      <td>0.00</td>\n",
       "      <td>0.0</td>\n",
       "      <td>0.0</td>\n",
       "      <td>0</td>\n",
       "      <td>0</td>\n",
       "      <td>...</td>\n",
       "      <td>0.0</td>\n",
       "      <td>0.0</td>\n",
       "      <td>0.0</td>\n",
       "      <td>0.0</td>\n",
       "      <td>0.0</td>\n",
       "      <td>0.0</td>\n",
       "      <td>0.0</td>\n",
       "      <td>0.0</td>\n",
       "      <td>0.0</td>\n",
       "      <td>141069.33</td>\n",
       "    </tr>\n",
       "    <tr>\n",
       "      <th>9845</th>\n",
       "      <td>19796</td>\n",
       "      <td>2</td>\n",
       "      <td>38</td>\n",
       "      <td>0.0</td>\n",
       "      <td>0.00</td>\n",
       "      <td>0.00</td>\n",
       "      <td>0.0</td>\n",
       "      <td>0.0</td>\n",
       "      <td>0</td>\n",
       "      <td>0</td>\n",
       "      <td>...</td>\n",
       "      <td>0.0</td>\n",
       "      <td>0.0</td>\n",
       "      <td>0.0</td>\n",
       "      <td>0.0</td>\n",
       "      <td>0.0</td>\n",
       "      <td>0.0</td>\n",
       "      <td>0.0</td>\n",
       "      <td>0.0</td>\n",
       "      <td>0.0</td>\n",
       "      <td>86412.15</td>\n",
       "    </tr>\n",
       "    <tr>\n",
       "      <th>2732</th>\n",
       "      <td>5441</td>\n",
       "      <td>2</td>\n",
       "      <td>23</td>\n",
       "      <td>0.0</td>\n",
       "      <td>0.00</td>\n",
       "      <td>0.00</td>\n",
       "      <td>0.0</td>\n",
       "      <td>0.0</td>\n",
       "      <td>0</td>\n",
       "      <td>0</td>\n",
       "      <td>...</td>\n",
       "      <td>0.0</td>\n",
       "      <td>0.0</td>\n",
       "      <td>0.0</td>\n",
       "      <td>0.0</td>\n",
       "      <td>0.0</td>\n",
       "      <td>0.0</td>\n",
       "      <td>0.0</td>\n",
       "      <td>0.0</td>\n",
       "      <td>0.0</td>\n",
       "      <td>45985.68</td>\n",
       "    </tr>\n",
       "  </tbody>\n",
       "</table>\n",
       "<p>7000 rows × 284 columns</p>\n",
       "</div>"
      ],
      "text/plain": [
       "         ID  var3  var15  imp_ent_var16_ult1  imp_op_var39_comer_ult1  \\\n",
       "7681  15431     2     42               840.0                  4477.02   \n",
       "9031  18181     2     31                 0.0                    52.32   \n",
       "3691   7411     2     51                 0.0                     0.00   \n",
       "202     407     2     36                 0.0                     0.00   \n",
       "5625  11280     2     23                 0.0                     0.00   \n",
       "...     ...   ...    ...                 ...                      ...   \n",
       "9225  18564     2     33                 0.0                     0.00   \n",
       "4859   9723     2     24                 0.0                     0.00   \n",
       "3264   6557     2     24                 0.0                     0.00   \n",
       "9845  19796     2     38                 0.0                     0.00   \n",
       "2732   5441     2     23                 0.0                     0.00   \n",
       "\n",
       "      imp_op_var39_comer_ult3  imp_op_var40_comer_ult1  \\\n",
       "7681                  4989.54                      0.0   \n",
       "9031                    52.32                      0.0   \n",
       "3691                     0.00                      0.0   \n",
       "202                      0.00                      0.0   \n",
       "5625                     0.00                      0.0   \n",
       "...                       ...                      ...   \n",
       "9225                     0.00                      0.0   \n",
       "4859                     0.00                      0.0   \n",
       "3264                     0.00                      0.0   \n",
       "9845                     0.00                      0.0   \n",
       "2732                     0.00                      0.0   \n",
       "\n",
       "      imp_op_var40_comer_ult3  imp_op_var40_efect_ult1  \\\n",
       "7681                      0.0                        0   \n",
       "9031                      0.0                        0   \n",
       "3691                      0.0                        0   \n",
       "202                       0.0                        0   \n",
       "5625                      0.0                        0   \n",
       "...                       ...                      ...   \n",
       "9225                      0.0                        0   \n",
       "4859                      0.0                        0   \n",
       "3264                      0.0                        0   \n",
       "9845                      0.0                        0   \n",
       "2732                      0.0                        0   \n",
       "\n",
       "      imp_op_var40_efect_ult3  ...  saldo_medio_var29_ult3  \\\n",
       "7681                        0  ...                     0.0   \n",
       "9031                        0  ...                     0.0   \n",
       "3691                        0  ...                     0.0   \n",
       "202                         0  ...                     0.0   \n",
       "5625                        0  ...                     0.0   \n",
       "...                       ...  ...                     ...   \n",
       "9225                        0  ...                     0.0   \n",
       "4859                        0  ...                     0.0   \n",
       "3264                        0  ...                     0.0   \n",
       "9845                        0  ...                     0.0   \n",
       "2732                        0  ...                     0.0   \n",
       "\n",
       "      saldo_medio_var33_hace2  saldo_medio_var33_hace3  \\\n",
       "7681                      0.0                      0.0   \n",
       "9031                      0.0                      0.0   \n",
       "3691                      0.0                      0.0   \n",
       "202                       0.0                      0.0   \n",
       "5625                      0.0                      0.0   \n",
       "...                       ...                      ...   \n",
       "9225                      0.0                      0.0   \n",
       "4859                      0.0                      0.0   \n",
       "3264                      0.0                      0.0   \n",
       "9845                      0.0                      0.0   \n",
       "2732                      0.0                      0.0   \n",
       "\n",
       "      saldo_medio_var33_ult1  saldo_medio_var33_ult3  saldo_medio_var44_hace2  \\\n",
       "7681                     0.0                     0.0                      0.0   \n",
       "9031                     0.0                     0.0                      0.0   \n",
       "3691                     0.0                     0.0                      0.0   \n",
       "202                      0.0                     0.0                      0.0   \n",
       "5625                     0.0                     0.0                      0.0   \n",
       "...                      ...                     ...                      ...   \n",
       "9225                     0.0                     0.0                      0.0   \n",
       "4859                     0.0                     0.0                      0.0   \n",
       "3264                     0.0                     0.0                      0.0   \n",
       "9845                     0.0                     0.0                      0.0   \n",
       "2732                     0.0                     0.0                      0.0   \n",
       "\n",
       "      saldo_medio_var44_hace3  saldo_medio_var44_ult1  saldo_medio_var44_ult3  \\\n",
       "7681                      0.0                     0.0                     0.0   \n",
       "9031                      0.0                     0.0                     0.0   \n",
       "3691                      0.0                     0.0                     0.0   \n",
       "202                       0.0                     0.0                     0.0   \n",
       "5625                      0.0                     0.0                     0.0   \n",
       "...                       ...                     ...                     ...   \n",
       "9225                      0.0                     0.0                     0.0   \n",
       "4859                      0.0                     0.0                     0.0   \n",
       "3264                      0.0                     0.0                     0.0   \n",
       "9845                      0.0                     0.0                     0.0   \n",
       "2732                      0.0                     0.0                     0.0   \n",
       "\n",
       "          var38  \n",
       "7681   37491.21  \n",
       "9031  106685.94  \n",
       "3691   66144.66  \n",
       "202    92121.36  \n",
       "5625   74650.83  \n",
       "...         ...  \n",
       "9225  117547.89  \n",
       "4859   71050.83  \n",
       "3264  141069.33  \n",
       "9845   86412.15  \n",
       "2732   45985.68  \n",
       "\n",
       "[7000 rows x 284 columns]"
      ]
     },
     "execution_count": 67,
     "metadata": {},
     "output_type": "execute_result"
    }
   ],
   "source": [
    "X_train.drop(constant_col,axis=1)"
   ]
  },
  {
   "cell_type": "code",
   "execution_count": null,
   "id": "840b8487",
   "metadata": {},
   "outputs": [],
   "source": []
  }
 ],
 "metadata": {
  "kernelspec": {
   "display_name": "Python 3 (ipykernel)",
   "language": "python",
   "name": "python3"
  },
  "language_info": {
   "codemirror_mode": {
    "name": "ipython",
    "version": 3
   },
   "file_extension": ".py",
   "mimetype": "text/x-python",
   "name": "python",
   "nbconvert_exporter": "python",
   "pygments_lexer": "ipython3",
   "version": "3.9.12"
  }
 },
 "nbformat": 4,
 "nbformat_minor": 5
}
